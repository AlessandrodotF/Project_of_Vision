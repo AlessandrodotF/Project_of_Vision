{
 "cells": [
  {
   "cell_type": "code",
   "execution_count": 3,
   "id": "31545543-1711-4d89-b467-b02edb79e577",
   "metadata": {},
   "outputs": [
    {
     "data": {
      "text/plain": [
       "array([3])"
      ]
     },
     "execution_count": 3,
     "metadata": {},
     "output_type": "execute_result"
    }
   ],
   "source": [
    "import numpy as np\n",
    "np.arange(10)[3:4]"
   ]
  },
  {
   "cell_type": "code",
   "execution_count": null,
   "id": "e68b9f4e-7cb9-4c10-bbea-68799a81b1a4",
   "metadata": {},
   "outputs": [],
   "source": [
    "IMG_size\n",
    "posX = np.arange(0, IMG_size, 160)\n",
    "\n",
    "for x in posX:\n",
    "    for y in posY:\n",
    "        image = arrray[posX -100:posX+100, posY-100:posY+100]\n"
   ]
  }
 ],
 "metadata": {
  "kernelspec": {
   "display_name": "Conda-Vision",
   "language": "python",
   "name": "conda-vision"
  },
  "language_info": {
   "codemirror_mode": {
    "name": "ipython",
    "version": 3
   },
   "file_extension": ".py",
   "mimetype": "text/x-python",
   "name": "python",
   "nbconvert_exporter": "python",
   "pygments_lexer": "ipython3",
   "version": "3.9.5"
  }
 },
 "nbformat": 4,
 "nbformat_minor": 5
}
