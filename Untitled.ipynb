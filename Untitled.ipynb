{
 "cells": [
  {
   "cell_type": "code",
   "execution_count": 1,
   "id": "9fdca075-bc3c-4242-871f-38ce7093a0d3",
   "metadata": {},
   "outputs": [],
   "source": [
    "import rasterio\n",
    "from rasterio.windows import Window\n",
    "import matplotlib.pyplot as plt\n",
    "from rasterio.plot import show\n",
    "from pyproj import CRS\n",
    "from pyproj import Transformer"
   ]
  },
  {
   "cell_type": "markdown",
   "id": "5a535c8f-8581-4902-b4a2-8beb875eefab",
   "metadata": {},
   "source": [
    "# Create Dataset for AI\n",
    "To create the Dataset for UNET"
   ]
  },
  {
   "cell_type": "code",
   "execution_count": null,
   "id": "b70a7691-bd3a-46ea-b9cf-a45d02a007e9",
   "metadata": {},
   "outputs": [],
   "source": [
    "dem_file_name = 'eu_dem_v11_E40N20.TIF'\n",
    "peak_file_name = 'eu_dem_v11_E40N20_peaks.TIF'"
   ]
  }
 ],
 "metadata": {
  "kernelspec": {
   "display_name": "Conda-Vision",
   "language": "python",
   "name": "conda-vision"
  },
  "language_info": {
   "codemirror_mode": {
    "name": "ipython",
    "version": 3
   },
   "file_extension": ".py",
   "mimetype": "text/x-python",
   "name": "python",
   "nbconvert_exporter": "python",
   "pygments_lexer": "ipython3",
   "version": "3.9.5"
  }
 },
 "nbformat": 4,
 "nbformat_minor": 5
}
