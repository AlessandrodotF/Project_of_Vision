{
 "cells": [
  {
   "cell_type": "code",
   "execution_count": 57,
   "id": "6c69f0a7",
   "metadata": {},
   "outputs": [],
   "source": [
    "import json\n",
    "\n",
    "# read file\n",
    "with open('Peaks.json', encoding=\"utf8\") as myfile:\n",
    "    data=myfile.read()\n",
    "\n",
    "# parse file\n",
    "data_dict = json.loads(data)\n",
    "\n",
    "# show values\n",
    "# for i in range(0,len(data_dict[\"features\"])):  \n",
    "#     print(data_dict[\"features\"][i][\"geometry\"][\"coordinates\"])\n",
    "    "
   ]
  },
  {
   "cell_type": "code",
   "execution_count": 63,
   "id": "3b3d14ed",
   "metadata": {},
   "outputs": [],
   "source": [
    "# Opening and Closing a file \"MyFile.txt\"\n",
    "# for object name file1.\n",
    "with open('Peaks_coord.txt', 'w') as f:\n",
    "    for i in range(0,len(data_dict[\"features\"])):  \n",
    "        f.write(str(data_dict[\"features\"][i][\"geometry\"][\"coordinates\"]))\n",
    "        f.write(\"\\n\")\n",
    "        "
   ]
  }
 ],
 "metadata": {
  "kernelspec": {
   "display_name": "Python 3",
   "language": "python",
   "name": "python3"
  },
  "language_info": {
   "codemirror_mode": {
    "name": "ipython",
    "version": 3
   },
   "file_extension": ".py",
   "mimetype": "text/x-python",
   "name": "python",
   "nbconvert_exporter": "python",
   "pygments_lexer": "ipython3",
   "version": "3.9.5"
  }
 },
 "nbformat": 4,
 "nbformat_minor": 5
}
